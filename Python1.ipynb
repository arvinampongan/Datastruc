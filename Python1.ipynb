{
  "nbformat": 4,
  "nbformat_minor": 0,
  "metadata": {
    "colab": {
      "provenance": [],
      "authorship_tag": "ABX9TyM2Ew014WT8F48DYUoSgqNs",
      "include_colab_link": true
    },
    "kernelspec": {
      "name": "python3",
      "display_name": "Python 3"
    },
    "language_info": {
      "name": "python"
    }
  },
  "cells": [
    {
      "cell_type": "markdown",
      "metadata": {
        "id": "view-in-github",
        "colab_type": "text"
      },
      "source": [
        "<a href=\"https://colab.research.google.com/github/arvinampongan/Datastruc/blob/main/Python1.ipynb\" target=\"_parent\"><img src=\"https://colab.research.google.com/assets/colab-badge.svg\" alt=\"Open In Colab\"/></a>"
      ]
    },
    {
      "cell_type": "markdown",
      "source": [
        "\n",
        "# **Python Basics**"
      ],
      "metadata": {
        "id": "gE029qX-l6sl"
      }
    },
    {
      "cell_type": "markdown",
      "source": [
        "\n",
        "\n",
        "---\n",
        "\n"
      ],
      "metadata": {
        "id": "FgTswRMXm9N4"
      }
    },
    {
      "cell_type": "markdown",
      "source": [
        "# Variables"
      ],
      "metadata": {
        "id": "7PKzmwqim6Hb"
      }
    },
    {
      "cell_type": "code",
      "execution_count": null,
      "metadata": {
        "colab": {
          "base_uri": "https://localhost:8080/"
        },
        "id": "L9TSLumwjab6",
        "outputId": "8d150481-84dc-4fd3-eaee-1ccf3197b95d"
      },
      "outputs": [
        {
          "output_type": "stream",
          "name": "stdout",
          "text": [
            "24\n"
          ]
        }
      ],
      "source": [
        "a = 2\n",
        "b = 4\n",
        "c = 8\n",
        "d = 10\n",
        "print(a+b+c+d)\n"
      ]
    },
    {
      "cell_type": "markdown",
      "source": [
        "# Naming Convention"
      ],
      "metadata": {
        "id": "YXv8OoW3nVgF"
      }
    },
    {
      "cell_type": "code",
      "source": [
        "a = 1\n",
        "__a = 2\n",
        "__A = 3\n",
        "a12 = 4\n",
        "# 12a = 4  in naming variables this will display error\n",
        "print(a)\n",
        "print(__a)\n",
        "print(__A)\n",
        "print(a12)"
      ],
      "metadata": {
        "colab": {
          "base_uri": "https://localhost:8080/"
        },
        "id": "zZ3KgBpzncuS",
        "outputId": "fe25fba5-72ac-4267-8fcf-859add0c8c36"
      },
      "execution_count": null,
      "outputs": [
        {
          "output_type": "stream",
          "name": "stdout",
          "text": [
            "1\n",
            "2\n",
            "3\n",
            "4\n"
          ]
        }
      ]
    },
    {
      "cell_type": "markdown",
      "source": [
        "# Type Error"
      ],
      "metadata": {
        "id": "mRxj5nFVobSk"
      }
    },
    {
      "cell_type": "code",
      "source": [
        "ab = \"23\"\n",
        "ba = \"23\"\n",
        "cd = \" \"\n",
        "print(ab + cd + ba)"
      ],
      "metadata": {
        "colab": {
          "base_uri": "https://localhost:8080/"
        },
        "id": "z05YLOgHon_u",
        "outputId": "b6d7685e-5423-49f2-cecb-089f4133e2d9"
      },
      "execution_count": null,
      "outputs": [
        {
          "output_type": "stream",
          "name": "stdout",
          "text": [
            "23 23\n"
          ]
        }
      ]
    },
    {
      "cell_type": "markdown",
      "source": [
        "# Sequence indexing"
      ],
      "metadata": {
        "id": "B79Cq2nypOci"
      }
    },
    {
      "cell_type": "code",
      "source": [
        "names = [\"Toper\", \"Maya\",\"Ryan\",\"Gagan\"]\n",
        "print(names[0])\n",
        "print(names[1])\n",
        "print(names[2])\n",
        "print(names[3])"
      ],
      "metadata": {
        "colab": {
          "base_uri": "https://localhost:8080/"
        },
        "id": "RranV88kpWiT",
        "outputId": "7da2def2-ab5e-4e51-a428-833febdbba0e"
      },
      "execution_count": null,
      "outputs": [
        {
          "output_type": "stream",
          "name": "stdout",
          "text": [
            "Toper\n",
            "Maya\n",
            "Ryan\n",
            "Gagan\n"
          ]
        }
      ]
    },
    {
      "cell_type": "markdown",
      "source": [
        "# Sequence Slicing"
      ],
      "metadata": {
        "id": "QGy83-wYqJJt"
      }
    },
    {
      "cell_type": "code",
      "source": [
        "names = [\"Toper\", \"Maya\",\"Ryan\",\"Gagan\"]\n",
        "print(names[0:2])\n",
        "print(names[0:3])\n",
        "print(names[0:4])"
      ],
      "metadata": {
        "colab": {
          "base_uri": "https://localhost:8080/"
        },
        "id": "StTC7LEHqK10",
        "outputId": "e2d5d261-b6a6-47a8-89bb-53dddc724290"
      },
      "execution_count": null,
      "outputs": [
        {
          "output_type": "stream",
          "name": "stdout",
          "text": [
            "['Toper', 'Maya']\n",
            "['Toper', 'Maya', 'Ryan']\n",
            "['Toper', 'Maya', 'Ryan', 'Gagan']\n"
          ]
        }
      ]
    },
    {
      "cell_type": "markdown",
      "source": [
        "# Negative slicing"
      ],
      "metadata": {
        "id": "72Iv0L58r_NG"
      }
    },
    {
      "cell_type": "code",
      "source": [
        "names = [\"Toper\", \"Maya\",\"Ryan\",\"Gagan\"]\n",
        "print(names[-3])"
      ],
      "metadata": {
        "colab": {
          "base_uri": "https://localhost:8080/"
        },
        "id": "VhcXkVUEsDLw",
        "outputId": "8ee13515-d833-4bca-e295-5f28c8c1233b"
      },
      "execution_count": null,
      "outputs": [
        {
          "output_type": "stream",
          "name": "stdout",
          "text": [
            "Maya\n"
          ]
        }
      ]
    },
    {
      "cell_type": "markdown",
      "source": [
        "# Item picking in the list"
      ],
      "metadata": {
        "id": "hd-UDWznsdxe"
      }
    },
    {
      "cell_type": "code",
      "source": [
        "names = [\"Toper\", \"Maya\",\"Ryan\",\"Gagan\"]\n",
        "print(names[::1])\n",
        "print(names[::2])\n",
        "print(names[1:2:2]) # start : end : step"
      ],
      "metadata": {
        "colab": {
          "base_uri": "https://localhost:8080/"
        },
        "id": "OifupxOtsnCs",
        "outputId": "a8f32991-6c2c-4b60-ff39-2ab4eec11da5"
      },
      "execution_count": null,
      "outputs": [
        {
          "output_type": "stream",
          "name": "stdout",
          "text": [
            "['Toper', 'Maya', 'Ryan', 'Gagan']\n",
            "['Toper', 'Ryan']\n",
            "['Maya']\n"
          ]
        }
      ]
    },
    {
      "cell_type": "markdown",
      "source": [
        "# Range"
      ],
      "metadata": {
        "id": "5jxQ0xUZtjD6"
      }
    },
    {
      "cell_type": "code",
      "source": [
        "my_range = range(1,10)\n",
        "print(my_range)\n",
        "print (list(my_range))"
      ],
      "metadata": {
        "colab": {
          "base_uri": "https://localhost:8080/"
        },
        "id": "s2A4fiyCttQm",
        "outputId": "2357474e-be36-4e30-ca90-6ac04bd00425"
      },
      "execution_count": null,
      "outputs": [
        {
          "output_type": "stream",
          "name": "stdout",
          "text": [
            "range(1, 10)\n",
            "[1, 2, 3, 4, 5, 6, 7, 8, 9]\n"
          ]
        }
      ]
    },
    {
      "cell_type": "markdown",
      "source": [
        "# Removing duplicates in a list"
      ],
      "metadata": {
        "id": "sgu_LlWfujGG"
      }
    },
    {
      "cell_type": "code",
      "source": [
        "a = [\"1\" , 1 , \"1\" , 2]\n",
        "a = list(set(a))\n",
        "print(a)"
      ],
      "metadata": {
        "colab": {
          "base_uri": "https://localhost:8080/"
        },
        "id": "2dZtFAjiuS-Z",
        "outputId": "2b5631b9-15e6-47c8-d5a9-4f4355e5cd49"
      },
      "execution_count": null,
      "outputs": [
        {
          "output_type": "stream",
          "name": "stdout",
          "text": [
            "[1, 2, '1']\n"
          ]
        }
      ]
    },
    {
      "cell_type": "markdown",
      "source": [
        "# Dictionary"
      ],
      "metadata": {
        "id": "diNeSdeXu-Fw"
      }
    },
    {
      "cell_type": "code",
      "source": [
        "d = {\"a\":1 , \"b\" :2}\n",
        "d = dict(a = 1 , b = 2)\n",
        "print(d)\n",
        "print(d[\"a\"])"
      ],
      "metadata": {
        "colab": {
          "base_uri": "https://localhost:8080/"
        },
        "id": "RMY7JSiWvABv",
        "outputId": "cf32a1ae-6d18-49ee-a1b1-304b341c2239"
      },
      "execution_count": null,
      "outputs": [
        {
          "output_type": "stream",
          "name": "stdout",
          "text": [
            "{'a': 1, 'b': 2}\n",
            "1\n"
          ]
        }
      ]
    },
    {
      "cell_type": "markdown",
      "source": [
        "# Adding two variables in dictionary"
      ],
      "metadata": {
        "id": "1HooArqgvkcJ"
      }
    },
    {
      "cell_type": "code",
      "source": [
        "d = dict(a = 1 , b = 2)\n",
        "print (d[\"a\"] * d[\"b\"]) # * = multiplication, / = division, - = substraction, + addition, % modulo operator"
      ],
      "metadata": {
        "colab": {
          "base_uri": "https://localhost:8080/"
        },
        "id": "GL3UjWlMvnd_",
        "outputId": "2a6dd4d9-7d5a-46b5-8cb7-78a64394c28c"
      },
      "execution_count": null,
      "outputs": [
        {
          "output_type": "stream",
          "name": "stdout",
          "text": [
            "2\n"
          ]
        }
      ]
    },
    {
      "cell_type": "markdown",
      "source": [
        "# Adding a dictionary values in a present dictionary"
      ],
      "metadata": {
        "id": "njSSuyV8wG8P"
      }
    },
    {
      "cell_type": "code",
      "source": [
        "d = dict(a = 1 , b = 2)\n",
        "d[\"c\"] = 3\n",
        "print(d)"
      ],
      "metadata": {
        "colab": {
          "base_uri": "https://localhost:8080/"
        },
        "id": "3k-4Fh29wLqo",
        "outputId": "798f7af3-7c24-402f-ab24-261529f4f150"
      },
      "execution_count": null,
      "outputs": [
        {
          "output_type": "stream",
          "name": "stdout",
          "text": [
            "{'a': 1, 'b': 2, 'c': 3}\n"
          ]
        }
      ]
    },
    {
      "cell_type": "markdown",
      "source": [
        "# Applying Functions to Dictionary"
      ],
      "metadata": {
        "id": "0p7DX-W8wstg"
      }
    },
    {
      "cell_type": "code",
      "source": [
        "d = dict(a = 1 , b = 2, c = 3)\n",
        "print(sum(d.values()))\n",
        "print(max(d.values()))\n",
        "print(min(d.values()))"
      ],
      "metadata": {
        "colab": {
          "base_uri": "https://localhost:8080/"
        },
        "id": "3_LfRJ3Swvsu",
        "outputId": "51fc3928-55e9-4d5b-9bd2-5f1248562bdf"
      },
      "execution_count": null,
      "outputs": [
        {
          "output_type": "stream",
          "name": "stdout",
          "text": [
            "6\n",
            "3\n",
            "1\n"
          ]
        }
      ]
    },
    {
      "cell_type": "markdown",
      "source": [
        "# Printing alphabets"
      ],
      "metadata": {
        "id": "ZyAXqXxZxK5J"
      }
    },
    {
      "cell_type": "code",
      "source": [
        "import string\n",
        "print (string.ascii_lowercase)\n",
        "print (string.ascii_uppercase)\n",
        "\n",
        "#same method\n",
        "for letter in string.ascii_lowercase:\n",
        "  print(letter)"
      ],
      "metadata": {
        "colab": {
          "base_uri": "https://localhost:8080/"
        },
        "id": "-i4VZyFjxOfX",
        "outputId": "f6ceee93-8f65-47f5-e99a-1f6cd7c286f1"
      },
      "execution_count": null,
      "outputs": [
        {
          "output_type": "stream",
          "name": "stdout",
          "text": [
            "abcdefghijklmnopqrstuvwxyz\n",
            "ABCDEFGHIJKLMNOPQRSTUVWXYZ\n",
            "a\n",
            "b\n",
            "c\n",
            "d\n",
            "e\n",
            "f\n",
            "g\n",
            "h\n",
            "i\n",
            "j\n",
            "k\n",
            "l\n",
            "m\n",
            "n\n",
            "o\n",
            "p\n",
            "q\n",
            "r\n",
            "s\n",
            "t\n",
            "u\n",
            "v\n",
            "w\n",
            "x\n",
            "y\n",
            "z\n"
          ]
        }
      ]
    }
  ]
}